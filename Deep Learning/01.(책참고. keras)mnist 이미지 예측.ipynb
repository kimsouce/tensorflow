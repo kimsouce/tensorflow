{
 "cells": [
  {
   "cell_type": "code",
   "execution_count": 1,
   "metadata": {},
   "outputs": [],
   "source": [
    "from keras.datasets import mnist\n",
    "from keras.utils import np_utils\n",
    "from keras.models import Sequential\n",
    "from keras.layers import Dense\n",
    "from keras.callbacks import ModelCheckpoint, EarlyStopping"
   ]
  },
  {
   "cell_type": "code",
   "execution_count": 2,
   "metadata": {},
   "outputs": [],
   "source": [
    "import numpy as np\n",
    "import sys\n",
    "import tensorflow as tf"
   ]
  },
  {
   "cell_type": "code",
   "execution_count": 3,
   "metadata": {},
   "outputs": [],
   "source": [
    "(x_train, y_train), (x_test, y_test) = mnist.load_data()"
   ]
  },
  {
   "cell_type": "code",
   "execution_count": 4,
   "metadata": {},
   "outputs": [
    {
     "data": {
      "text/plain": [
       "60000"
      ]
     },
     "execution_count": 4,
     "metadata": {},
     "output_type": "execute_result"
    }
   ],
   "source": [
    "x_train.shape[0]"
   ]
  },
  {
   "cell_type": "code",
   "execution_count": 5,
   "metadata": {},
   "outputs": [
    {
     "data": {
      "text/plain": [
       "(60000, 28, 28)"
      ]
     },
     "execution_count": 5,
     "metadata": {},
     "output_type": "execute_result"
    }
   ],
   "source": [
    "x_train.shape"
   ]
  },
  {
   "cell_type": "code",
   "execution_count": 6,
   "metadata": {},
   "outputs": [
    {
     "data": {
      "text/plain": [
       "10000"
      ]
     },
     "execution_count": 6,
     "metadata": {},
     "output_type": "execute_result"
    }
   ],
   "source": [
    "x_test.shape[0]"
   ]
  },
  {
   "cell_type": "code",
   "execution_count": 7,
   "metadata": {},
   "outputs": [
    {
     "data": {
      "text/plain": [
       "(10000, 28, 28)"
      ]
     },
     "execution_count": 7,
     "metadata": {},
     "output_type": "execute_result"
    }
   ],
   "source": [
    "x_test.shape"
   ]
  },
  {
   "cell_type": "code",
   "execution_count": 8,
   "metadata": {},
   "outputs": [
    {
     "data": {
      "text/plain": [
       "<function matplotlib.pyplot.show(*args, **kw)>"
      ]
     },
     "execution_count": 8,
     "metadata": {},
     "output_type": "execute_result"
    },
    {
     "data": {
      "image/png": "[encoded data removed]",
      "text/plain": [
       "<Figure size 432x288 with 1 Axes>"
      ]
     },
     "metadata": {
      "needs_background": "light"
     },
     "output_type": "display_data"
    }
   ],
   "source": [
    "import matplotlib.pyplot as plt\n",
    "plt.imshow(x_train[0], cmap='Greys')\n",
    "plt.show"
   ]
  },
  {
   "cell_type": "code",
   "execution_count": 9,
   "metadata": {},
   "outputs": [],
   "source": [
    "x_train = x_train.reshape(x_train.shape[0], 784).astype('float32')/255  #픽셀은 밝기에 따라 0부터 255까지의 등급을 매긴다. \n",
    "x_test = x_test.reshape(x_test.shape[0],784).astype('float32')/255"
   ]
  },
  {
   "cell_type": "code",
   "execution_count": 10,
   "metadata": {},
   "outputs": [
    {
     "data": {
      "text/plain": [
       "(60000, 784)"
      ]
     },
     "execution_count": 10,
     "metadata": {},
     "output_type": "execute_result"
    }
   ],
   "source": [
    "x_train.shape"
   ]
  },
  {
   "cell_type": "code",
   "execution_count": 11,
   "metadata": {},
   "outputs": [
    {
     "data": {
      "text/plain": [
       "(10000, 784)"
      ]
     },
     "execution_count": 11,
     "metadata": {},
     "output_type": "execute_result"
    }
   ],
   "source": [
    "x_test.shape"
   ]
  },
  {
   "cell_type": "code",
   "execution_count": 12,
   "metadata": {},
   "outputs": [
    {
     "data": {
      "text/plain": [
       "(10000,)"
      ]
     },
     "execution_count": 12,
     "metadata": {},
     "output_type": "execute_result"
    }
   ],
   "source": [
    "y_test.shape"
   ]
  },
  {
   "cell_type": "code",
   "execution_count": 13,
   "metadata": {},
   "outputs": [
    {
     "data": {
      "text/plain": [
       "(60000,)"
      ]
     },
     "execution_count": 13,
     "metadata": {},
     "output_type": "execute_result"
    }
   ],
   "source": [
    "y_train.shape"
   ]
  },
  {
   "cell_type": "code",
   "execution_count": 14,
   "metadata": {},
   "outputs": [],
   "source": [
    "y_train = np_utils.to_categorical(y_train,10)\n",
    "y_test = np_utils.to_categorical(y_test,10)"
   ]
  },
  {
   "cell_type": "code",
   "execution_count": 15,
   "metadata": {},
   "outputs": [],
   "source": [
    "model = Sequential()\n",
    "model.add(Dense(512,input_dim=784, activation='relu'))\n",
    "model.add(Dense(10,activation='softmax'))"
   ]
  },
  {
   "cell_type": "code",
   "execution_count": 16,
   "metadata": {},
   "outputs": [],
   "source": [
    "model.compile(loss='categorical_crossentropy', optimizer='adam', metrics=['accuracy'])"
   ]
  },
  {
   "cell_type": "markdown",
   "metadata": {},
   "source": [
    "### 학습"
   ]
  },
  {
   "cell_type": "code",
   "execution_count": 17,
   "metadata": {},
   "outputs": [],
   "source": [
    "early_stopping_callback = EarlyStopping(monitor='val_loss', patience=100)"
   ]
  },
  {
   "cell_type": "code",
   "execution_count": 18,
   "metadata": {},
   "outputs": [
    {
     "name": "stdout",
     "output_type": "stream",
     "text": [
      "Epoch 1/30\n",
      "300/300 [==============================] - 2s 6ms/step - loss: 0.3044 - accuracy: 0.9144 - val_loss: 0.1548 - val_accuracy: 0.9544\n",
      "Epoch 2/30\n",
      "300/300 [==============================] - 2s 5ms/step - loss: 0.1256 - accuracy: 0.9644 - val_loss: 0.1059 - val_accuracy: 0.9694\n",
      "Epoch 3/30\n",
      "300/300 [==============================] - 1s 5ms/step - loss: 0.0830 - accuracy: 0.9767 - val_loss: 0.0798 - val_accuracy: 0.9758\n",
      "Epoch 4/30\n",
      "300/300 [==============================] - 1s 5ms/step - loss: 0.0601 - accuracy: 0.9831 - val_loss: 0.0808 - val_accuracy: 0.9760\n",
      "Epoch 5/30\n",
      "300/300 [==============================] - 1s 5ms/step - loss: 0.0453 - accuracy: 0.9872 - val_loss: 0.0702 - val_accuracy: 0.9787\n",
      "Epoch 6/30\n",
      "300/300 [==============================] - 1s 5ms/step - loss: 0.0348 - accuracy: 0.9904 - val_loss: 0.0600 - val_accuracy: 0.9807\n",
      "Epoch 7/30\n",
      "300/300 [==============================] - 1s 5ms/step - loss: 0.0267 - accuracy: 0.9930 - val_loss: 0.0605 - val_accuracy: 0.9820\n",
      "Epoch 8/30\n",
      "300/300 [==============================] - 1s 5ms/step - loss: 0.0204 - accuracy: 0.9951 - val_loss: 0.0655 - val_accuracy: 0.9802\n",
      "Epoch 9/30\n",
      "300/300 [==============================] - 1s 5ms/step - loss: 0.0161 - accuracy: 0.9963 - val_loss: 0.0591 - val_accuracy: 0.9819\n",
      "Epoch 10/30\n",
      "300/300 [==============================] - 1s 5ms/step - loss: 0.0129 - accuracy: 0.9972 - val_loss: 0.0672 - val_accuracy: 0.9790\n",
      "Epoch 11/30\n",
      "300/300 [==============================] - 1s 5ms/step - loss: 0.0100 - accuracy: 0.9983 - val_loss: 0.0639 - val_accuracy: 0.9805\n",
      "Epoch 12/30\n",
      "300/300 [==============================] - 1s 5ms/step - loss: 0.0081 - accuracy: 0.9987 - val_loss: 0.0663 - val_accuracy: 0.9800\n",
      "Epoch 13/30\n",
      "300/300 [==============================] - 1s 5ms/step - loss: 0.0067 - accuracy: 0.9988 - val_loss: 0.0583 - val_accuracy: 0.9828\n",
      "Epoch 14/30\n",
      "300/300 [==============================] - 1s 5ms/step - loss: 0.0049 - accuracy: 0.9993 - val_loss: 0.0611 - val_accuracy: 0.9822\n",
      "Epoch 15/30\n",
      "300/300 [==============================] - 1s 5ms/step - loss: 0.0040 - accuracy: 0.9996 - val_loss: 0.0613 - val_accuracy: 0.9826\n",
      "Epoch 16/30\n",
      "300/300 [==============================] - 2s 5ms/step - loss: 0.0023 - accuracy: 0.9999 - val_loss: 0.0634 - val_accuracy: 0.9829\n",
      "Epoch 17/30\n",
      "300/300 [==============================] - 2s 6ms/step - loss: 0.0022 - accuracy: 0.9998 - val_loss: 0.0667 - val_accuracy: 0.9816\n",
      "Epoch 18/30\n",
      "300/300 [==============================] - 2s 5ms/step - loss: 0.0044 - accuracy: 0.9991 - val_loss: 0.0799 - val_accuracy: 0.9802\n",
      "Epoch 19/30\n",
      "300/300 [==============================] - 1s 5ms/step - loss: 0.0127 - accuracy: 0.9961 - val_loss: 0.0828 - val_accuracy: 0.9792\n",
      "Epoch 20/30\n",
      "300/300 [==============================] - 2s 6ms/step - loss: 0.0051 - accuracy: 0.9988 - val_loss: 0.0701 - val_accuracy: 0.9821\n",
      "Epoch 21/30\n",
      "300/300 [==============================] - 2s 5ms/step - loss: 0.0018 - accuracy: 0.9998 - val_loss: 0.0647 - val_accuracy: 0.9838\n",
      "Epoch 22/30\n",
      "300/300 [==============================] - 2s 5ms/step - loss: 6.9440e-04 - accuracy: 1.0000 - val_loss: 0.0654 - val_accuracy: 0.9831\n",
      "Epoch 23/30\n",
      "300/300 [==============================] - 2s 5ms/step - loss: 4.5292e-04 - accuracy: 1.0000 - val_loss: 0.0650 - val_accuracy: 0.9833\n",
      "Epoch 24/30\n",
      "300/300 [==============================] - 1s 5ms/step - loss: 3.7203e-04 - accuracy: 1.0000 - val_loss: 0.0669 - val_accuracy: 0.9836\n",
      "Epoch 25/30\n",
      "300/300 [==============================] - 1s 5ms/step - loss: 3.1609e-04 - accuracy: 1.0000 - val_loss: 0.0684 - val_accuracy: 0.9831\n",
      "Epoch 26/30\n",
      "300/300 [==============================] - 2s 5ms/step - loss: 3.1430e-04 - accuracy: 1.0000 - val_loss: 0.0678 - val_accuracy: 0.9830\n",
      "Epoch 27/30\n",
      "300/300 [==============================] - 2s 5ms/step - loss: 2.6117e-04 - accuracy: 1.0000 - val_loss: 0.0687 - val_accuracy: 0.9834\n",
      "Epoch 28/30\n",
      "300/300 [==============================] - 1s 5ms/step - loss: 2.3561e-04 - accuracy: 1.0000 - val_loss: 0.0691 - val_accuracy: 0.9839\n",
      "Epoch 29/30\n",
      "300/300 [==============================] - 1s 4ms/step - loss: 2.1273e-04 - accuracy: 1.0000 - val_loss: 0.0703 - val_accuracy: 0.9830\n",
      "Epoch 30/30\n",
      "300/300 [==============================] - 1s 4ms/step - loss: 1.8386e-04 - accuracy: 1.0000 - val_loss: 0.0703 - val_accuracy: 0.9834\n"
     ]
    }
   ],
   "source": [
    "history = model.fit(x_train, y_train,validation_data=(x_test, y_test),epochs=30, batch_size=200, callbacks=[early_stopping_callback])"
   ]
  },
  {
   "cell_type": "code",
   "execution_count": 19,
   "metadata": {},
   "outputs": [
    {
     "name": "stdout",
     "output_type": "stream",
     "text": [
      "313/313 [==============================] - 0s 1ms/step - loss: 0.0703 - accuracy: 0.9834\n"
     ]
    },
    {
     "data": {
      "text/plain": [
       "0.9833999872207642"
      ]
     },
     "execution_count": 19,
     "metadata": {},
     "output_type": "execute_result"
    }
   ],
   "source": [
    "model.evaluate(x_test,y_test)[1]"
   ]
  },
  {
   "cell_type": "code",
   "execution_count": 20,
   "metadata": {},
   "outputs": [],
   "source": [
    "y_vloss = history.history['val_loss']\n",
    "y_loss = history.history['loss']"
   ]
  },
  {
   "cell_type": "code",
   "execution_count": 21,
   "metadata": {},
   "outputs": [
    {
     "data": {
      "image/png": "[encoded data removed]",
      "text/plain": [
       "<Figure size 432x288 with 1 Axes>"
      ]
     },
     "metadata": {
      "needs_background": "light"
     },
     "output_type": "display_data"
    }
   ],
   "source": [
    "x_len = np.arange(len(y_loss))\n",
    "plt.plot(x_len, y_vloss,marker='.', c='red',label='Testset_loss')\n",
    "plt.plot(x_len, y_loss, marker='.',c='blue',label='Trainset_loss')\n",
    "\n",
    "plt. legend(loc='upper right')\n",
    "plt.grid()\n",
    "plt.xlabel('epoch')\n",
    "plt.ylabel('loss')\n",
    "plt.show()"
   ]
  },
  {
   "cell_type": "code",
   "execution_count": null,
   "metadata": {},
   "outputs": [],
   "source": []
  }
 ],
 "metadata": {
  "kernelspec": {
   "display_name": "Python 3",
   "language": "python",
   "name": "python3"
  },
  "language_info": {
   "codemirror_mode": {
    "name": "ipython",
    "version": 3
   },
   "file_extension": ".py",
   "mimetype": "text/x-python",
   "name": "python",
   "nbconvert_exporter": "python",
   "pygments_lexer": "ipython3",
   "version": "3.7.6"
  }
 },
 "nbformat": 4,
 "nbformat_minor": 4
}
